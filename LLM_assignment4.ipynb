{
 "cells": [
  {
   "cell_type": "code",
   "id": "initial_id",
   "metadata": {
    "collapsed": true,
    "ExecuteTime": {
     "end_time": "2025-05-11T13:45:27.497453Z",
     "start_time": "2025-05-11T13:45:23.992480Z"
    }
   },
   "source": [
    "# Extract the Lima dataset’s instruction\n",
    "from datasets import load_dataset\n",
    "\n",
    "lima = load_dataset(\"GAIR/lima\")"
   ],
   "outputs": [],
   "execution_count": 12
  },
  {
   "metadata": {
    "ExecuteTime": {
     "end_time": "2025-05-11T13:11:04.960466Z",
     "start_time": "2025-05-11T13:11:04.948506Z"
    }
   },
   "cell_type": "code",
   "source": [
    "import json\n",
    "parsed_conversations = [\n",
    "    json.loads(conv) if isinstance(conv, str) else conv \n",
    "    for conv in lima[\"train\"][\"conversations\"]\n",
    "]"
   ],
   "id": "3f481a034fd51d4",
   "outputs": [],
   "execution_count": 6
  },
  {
   "metadata": {
    "ExecuteTime": {
     "end_time": "2025-05-11T13:11:07.963848Z",
     "start_time": "2025-05-11T13:11:07.955362Z"
    }
   },
   "cell_type": "code",
   "source": [
    "instructions = []\n",
    "for conv in parsed_conversations:\n",
    "    try:\n",
    "        instructions.append(conv[0][\"content\"])\n",
    "    except (KeyError, IndexError, TypeError):\n",
    "        instructions.append(\"\")  # 跳过无效条目或标记为空"
   ],
   "id": "293fcd9f1db803d2",
   "outputs": [],
   "execution_count": 7
  },
  {
   "metadata": {
    "ExecuteTime": {
     "end_time": "2025-05-11T13:11:11.477440Z",
     "start_time": "2025-05-11T13:11:11.455799Z"
    }
   },
   "cell_type": "code",
   "source": [
    "#Sample 50 instructions\n",
    "from datasets import Dataset\n",
    "sampled_dataset = Dataset.from_dict({\"instruction\": instructions}).shuffle(seed=42).select(range(50))"
   ],
   "id": "2942bc37cc05f838",
   "outputs": [],
   "execution_count": 8
  },
  {
   "metadata": {
    "ExecuteTime": {
     "end_time": "2025-05-11T13:43:43.195314Z",
     "start_time": "2025-05-11T13:43:43.193275Z"
    }
   },
   "cell_type": "code",
   "source": [
    "from transformers import AutoTokenizer, AutoModelForCausalLM, pipeline\n",
    "import torch\n",
    "\n",
    "model_name = \"mistralai/Mistral-7B-Instruct-v0.2\"\n",
    "tokenizer = AutoTokenizer.from_pretrained(model_name)\n",
    "model = AutoModelForCausalLM.from_pretrained(model_name, device_map=\"auto\")"
   ],
   "id": "ce70de87bf248df",
   "outputs": [],
   "execution_count": null
  },
  {
   "metadata": {
    "ExecuteTime": {
     "end_time": "2025-05-11T13:49:29.317895Z",
     "start_time": "2025-05-11T13:49:29.312954Z"
    }
   },
   "cell_type": "code",
   "source": [
    "# use mistralai/Mistral-7B-Instruct-v0.2 to generate 5 responses for each instruction\n",
    "import torch\n",
    "from tqdm import tqdm\n",
    "\n",
    "all_responses = []\n",
    "for instruction in tqdm(sampled_dataset[\"instruction\"]):\n",
    "    inputs = tokenizer.apply_chat_template(\n",
    "        [{\"role\": \"user\", \"content\": instruction}],\n",
    "        return_tensors=\"pt\"\n",
    "    ).to(model.device)\n",
    "    \n",
    "    # 生成5个不同回答\n",
    "    outputs = model.generate(\n",
    "        inputs,\n",
    "        max_new_tokens=256,\n",
    "        temperature=0.7,\n",
    "        top_p=0.9,\n",
    "        num_return_sequences=5,\n",
    "        do_sample=True\n",
    "    )\n",
    "    responses = [tokenizer.decode(o, skip_special_tokens=True) for o in outputs]\n",
    "    all_responses.append(responses)"
   ],
   "id": "558773adb2e32206",
   "outputs": [],
   "execution_count": null
  },
  {
   "metadata": {},
   "cell_type": "code",
   "outputs": [],
   "execution_count": null,
   "source": [
    "#use PairRM to create a preference dataset\n",
    "from pairrm import PairRMScorer\n",
    "\n",
    "scorer = PairRMScorer()\n",
    "preference_data = []\n",
    "\n",
    "for idx, instruction in tqdm(enumerate(sampled_dataset[\"instruction\"])):\n",
    "    candidates = all_responses[idx]\n",
    "    pairs = [(i, j) for i in range(5) for j in range(5) if i < j]\n",
    "    scores = []\n",
    "    \n",
    "    for i, j in pairs:\n",
    "        score = scorer.score([instruction], [candidates[i]], [candidates[j]])\n",
    "        scores.append((i, j, score))\n",
    "    \n",
    "    best_idx = max(scores, key=lambda x: x[2])[0]\n",
    "    worst_idx = min(scores, key=lambda x: x[2])[1]\n",
    "    preference_data.append({\n",
    "        \"instruction\": instruction,\n",
    "        \"chosen\": candidates[best_idx],\n",
    "        \"rejected\": candidates[worst_idx],\n",
    "    })\n",
    "\n",
    "from datasets import Dataset\n",
    "\n",
    "dataset = Dataset.from_dict({\n",
    "    \"instruction\": [d[\"instruction\"] for d in preference_data],\n",
    "    \"chosen\": [d[\"chosen\"] for d in preference_data],\n",
    "    \"rejected\": [d[\"rejected\"] for d in preference_data],\n",
    "})\n",
    "# Push this dataset to huggingface\n",
    "dataset.push_to_hub(\"ShuyanCHEN/DSAA6000_assignment4\")"
   ],
   "id": "d6250e47621ac504"
  },
  {
   "metadata": {},
   "cell_type": "code",
   "outputs": [],
   "execution_count": null,
   "source": [
    "#Use DPO to fine tune mistralai/Mistral-7B-Instruct-v0.2\n",
    "from transformers import TrainingArguments\n",
    "from trl import DPOTrainer\n",
    "import pandas as pd\n",
    "import torch\n",
    "\n",
    "#sample 10 instructions that were not seen in training and generate samples\n",
    "dpo_dataset = dataset.train_test_split(\n",
    "    test_size=0.2,  \n",
    "    shuffle=True,\n",
    "    seed=42\n",
    ")"
   ],
   "id": "fac4ec99bca9c3d1"
  },
  {
   "metadata": {},
   "cell_type": "code",
   "outputs": [],
   "execution_count": null,
   "source": [
    "training_args = TrainingArguments(\n",
    "    per_device_train_batch_size=2,    \n",
    "    gradient_accumulation_steps=2,    \n",
    "    learning_rate=5e-6,                \n",
    "    num_train_epochs=2,               \n",
    "    logging_steps=10,\n",
    "    evaluation_strategy=\"no\",\n",
    "    output_dir=\"./dpo_model\",\n",
    "    fp16=True,                       \n",
    "    optim=\"adamw_torch\",\n",
    "    report_to=\"none\"                 \n",
    ")"
   ],
   "id": "5357db0d567dc5f1"
  },
  {
   "metadata": {},
   "cell_type": "code",
   "outputs": [],
   "execution_count": null,
   "source": [
    "#Compare the completions from the original model (mistralai/Mistral-7B-Instruct-v0.2 and your DPO fine tuned model\n",
    "dpo_trainer = DPOTrainer(\n",
    "    model=model,\n",
    "    ref_model=None,                    \n",
    "    args=training_args,\n",
    "    train_dataset=dpo_dataset[\"train\"],\n",
    "    tokenizer=tokenizer,\n",
    "    beta=0.1,                        \n",
    "    max_length=512,\n",
    ")\n",
    "dpo_trainer.train()"
   ],
   "id": "1275886ee154ca8e"
  },
  {
   "metadata": {},
   "cell_type": "code",
   "outputs": [],
   "execution_count": null,
   "source": [
    "\n",
    "test_instructions = dpo_dataset[\"test\"][\"instruction\"][:10] \n",
    "\n",
    "original_outputs = []\n",
    "dpo_outputs = []\n",
    "\n",
    "\n",
    "def generate_response(instruction, model):\n",
    "    inputs = tokenizer.apply_chat_template(\n",
    "        [{\"role\": \"user\", \"content\": instruction}],\n",
    "        return_tensors=\"pt\"\n",
    "    ).to(model.device)\n",
    "    \n",
    "    outputs = model.generate(\n",
    "        inputs,\n",
    "        max_new_tokens=256,\n",
    "        temperature=0.7,\n",
    "        top_p=0.9,\n",
    "        do_sample=True\n",
    "    )\n",
    "    return tokenizer.decode(outputs[0], skip_special_tokens=True)\n",
    "\n",
    "\n",
    "for instr in test_instructions:\n",
    "\n",
    "    original_model = AutoModelForCausalLM.from_pretrained(\n",
    "        \"mistralai/Mistral-7B-Instruct-v0.2\", \n",
    "        device_map=\"auto\"\n",
    "    )\n",
    "    original_outputs.append(generate_response(instr, original_model))\n",
    "    \n",
    "\n",
    "    dpo_outputs.append(generate_response(instr, dpo_trainer.model))\n"
   ],
   "id": "53e1fae4de74d587"
  },
  {
   "metadata": {},
   "cell_type": "markdown",
   "source": "",
   "id": "e0f6708f03ba3193"
  },
  {
   "metadata": {},
   "cell_type": "code",
   "outputs": [],
   "execution_count": null,
   "source": [
    "# Display the instruction, original model completion, and DPO fine-tuned model completion as a pandas dataframe\n",
    "df = pd.DataFrame({\n",
    "    \"Instruction\": test_instructions,\n",
    "    \"Original Model\": original_outputs,\n",
    "    \"DPO Model\": dpo_outputs,\n",
    "})\n",
    "\n",
    "pd.set_option(\"display.max_colwidth\", 200)\n",
    "pd.set_option(\"display.width\", 1000)\n",
    "\n",
    "#print out the dataframe to stdout\n",
    "print(df.to_markdown(index=False))\n",
    "\n"
   ],
   "id": "c49e06130df53c54"
  },
  {
   "metadata": {},
   "cell_type": "code",
   "outputs": [],
   "execution_count": null,
   "source": [
    "#Push the PEFT adapter to huggingface\n",
    "dpo_trainer.model.save_pretrained(\"mistral-7b-dpo-adapter\")\n",
    "\n",
    "from huggingface_hub import HfApi\n",
    "\n",
    "api = HfApi()\n",
    "api.upload_folder(\n",
    "    folder_path=\"mistral-7b-dpo-adapter\",\n",
    "    repo_id=\"ShuyanCHEN/DSAA6000_assignment4\",\n",
    "    repo_type=\"model\"\n",
    ")\n",
    "\n",
    "print(\"\\nhttps://huggingface.co/ShuyanCHEN/DSAA6000_assignment4\")\n"
   ],
   "id": "6080f09ef139260e"
  }
 ],
 "metadata": {
  "kernelspec": {
   "display_name": "Python 3",
   "language": "python",
   "name": "python3"
  },
  "language_info": {
   "codemirror_mode": {
    "name": "ipython",
    "version": 2
   },
   "file_extension": ".py",
   "mimetype": "text/x-python",
   "name": "python",
   "nbconvert_exporter": "python",
   "pygments_lexer": "ipython2",
   "version": "2.7.6"
  }
 },
 "nbformat": 4,
 "nbformat_minor": 5
}
